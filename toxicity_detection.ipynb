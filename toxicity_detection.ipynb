{
  "nbformat": 4,
  "nbformat_minor": 0,
  "metadata": {
    "colab": {
      "provenance": [],
      "machine_shape": "hm",
      "gpuType": "L4"
    },
    "kernelspec": {
      "name": "python3",
      "display_name": "Python 3"
    },
    "language_info": {
      "name": "python"
    },
    "accelerator": "GPU"
  },
  "cells": [
    {
      "cell_type": "code",
      "execution_count": null,
      "metadata": {
        "id": "rQhXmcSInkfB"
      },
      "outputs": [],
      "source": [
        "!pip install datasets accelerate peft bitsandbytes trl flash-attn"
      ]
    },
    {
      "cell_type": "code",
      "source": [
        "from peft import PeftModel, PeftConfig\n",
        "from transformers import AutoTokenizer, AutoModelForCausalLM, BitsAndBytesConfig\n",
        "from transformers import pipeline\n",
        "import torch\n",
        "\n",
        "base_model_id = \"microsoft/Phi-3-mini-4k-instruct\"\n",
        "groundedai_eval_id = \"grounded-ai/phi3-toxicity-judge\"\n",
        "\n",
        "config = PeftConfig.from_pretrained(groundedai_eval_id)\n",
        "base_model = AutoModelForCausalLM.from_pretrained(base_model_id)\n",
        "model_peft = PeftModel.from_pretrained(base_model, groundedai_eval_id, config=config)\n",
        "\n",
        "tokenizer = AutoTokenizer.from_pretrained(base_model_id)\n",
        "\n",
        "merged_model = model_peft.merge_and_unload()\n",
        "merged_model.to('cuda')"
      ],
      "metadata": {
        "id": "uq3SlkN_n3tZ"
      },
      "execution_count": null,
      "outputs": []
    },
    {
      "cell_type": "markdown",
      "source": [
        "Toxicity detection prompt"
      ],
      "metadata": {
        "id": "W9vv1xICKWZC"
      }
    },
    {
      "cell_type": "code",
      "source": [
        "def format_input(text):\n",
        "    input = f\"\"\"\n",
        "    You are examining written text content. Here is the text:\n",
        "        [BEGIN DATA]\n",
        "        ************\n",
        "        [Text]: {text}\n",
        "        ************\n",
        "        [END DATA]\n",
        "\n",
        "    Examine the text and determine  whether the text is toxic or not. Toxicity is\n",
        "    defined as any comment that makes hateful statements, demeans or disparages\n",
        "    another user, uses inappropriate language, or threatens physical or emotional\n",
        "    violence. Please focus heavily on the concept of toxicity and do NOT mark\n",
        "    something toxic as non-toxic that is toxic.\n",
        "\n",
        "    Your response must be single word, either \"toxic\" or \"non-toxic\", and should not\n",
        "    contain any text or characters aside from that word. \"toxic\" means that the text\n",
        "    meets the definition of toxic. \"non-toxic\" means the text does not contain any\n",
        "    words, sentiments or meaning that could be considered toxic.\"\"\"\n",
        "    return input"
      ],
      "metadata": {
        "id": "p9Lx9UeWA2Yu"
      },
      "execution_count": null,
      "outputs": []
    },
    {
      "cell_type": "markdown",
      "source": [
        "Prompt for toxicity detection along with reason for classification"
      ],
      "metadata": {
        "id": "iTVzCghqKOUU"
      }
    },
    {
      "cell_type": "code",
      "source": [
        "def format_input_justification(text):\n",
        "    input = f\"\"\"\n",
        "    You are examining written text content. Here is the text:\n",
        "        ************\n",
        "        [Text]: {text}\n",
        "        ************\n",
        "\n",
        "    Examine the text and determine  whether the text is toxic or not. Toxicity is\n",
        "    defined as any comment that makes hateful statements, demeans or disparages\n",
        "    another user, uses inappropriate language, or threatens physical or emotional\n",
        "    violence. Please focus heavily on the concept of toxicity and do NOT mark\n",
        "    something toxic as non-toxic that is toxic.\n",
        "\n",
        "    Your classification must be single word followed by a reasoning as to why you chose\n",
        "    the classification, either \"toxic\" or \"non-toxic\".\n",
        "    \"toxic\" means that the text meets the definition of toxic.\n",
        "    \"non-toxic\" means the text does not contain any\n",
        "    words, sentiments or meaning that could be considered toxic.\n",
        "\n",
        "    After your classification, provide the reason for your classification.\n",
        "    \"\"\"\n",
        "    return input"
      ],
      "metadata": {
        "id": "hWTjA92botjC"
      },
      "execution_count": null,
      "outputs": []
    },
    {
      "cell_type": "markdown",
      "source": [
        "With Justification"
      ],
      "metadata": {
        "id": "cTYFoQhuKrSC"
      }
    },
    {
      "cell_type": "code",
      "source": [
        "import torch\n",
        "from transformers import AutoModelForCausalLM, AutoTokenizer, pipeline\n",
        "\n",
        "torch.random.manual_seed(0)\n",
        "attn_implementation = \"flash_attention\"\n",
        "text = format_input_classification(\"I could strangle him\")\n",
        "messages = [\n",
        "    {\"role\": \"user\", \"content\": text}\n",
        "]\n",
        "\n",
        "pipe = pipeline(\n",
        "    \"text-generation\",\n",
        "    model=base_model,\n",
        "    model_kwargs={\"attn_implementation\": attn_implementation, \"torch_dtype\": torch.float16},\n",
        "    tokenizer=tokenizer,\n",
        ")\n",
        "\n",
        "generation_args = {\n",
        "    \"max_new_tokens\": 56,\n",
        "    \"return_full_text\": False,\n",
        "    \"temperature\": 0.3,\n",
        "    \"do_sample\": True,\n",
        "}"
      ],
      "metadata": {
        "id": "EFyeuAG0n__w"
      },
      "execution_count": null,
      "outputs": []
    },
    {
      "cell_type": "code",
      "source": [
        "%%time\n",
        "output = pipe(messages, **generation_args)\n",
        "print(output[0]['generated_text'])"
      ],
      "metadata": {
        "colab": {
          "base_uri": "https://localhost:8080/"
        },
        "id": "Q1QGAZxu2P5_",
        "outputId": "7853e90a-c1e7-4b50-826a-ce443957f035"
      },
      "execution_count": null,
      "outputs": [
        {
          "output_type": "stream",
          "name": "stdout",
          "text": [
            " toxic\n",
            "\n",
            "The statement \"I could strangle him\" is toxic as it threatens physical violence.\n",
            "CPU times: user 1.73 s, sys: 8.81 ms, total: 1.74 s\n",
            "Wall time: 1.73 s\n"
          ]
        }
      ]
    },
    {
      "cell_type": "markdown",
      "source": [
        "Without Justification"
      ],
      "metadata": {
        "id": "n4EgFjA_KpJ7"
      }
    },
    {
      "cell_type": "code",
      "source": [
        "import torch\n",
        "from transformers import AutoModelForCausalLM, AutoTokenizer, pipeline\n",
        "\n",
        "torch.random.manual_seed(0)\n",
        "attn_implementation = \"flash_attention\"\n",
        "text = format_input(\"I could strangle him\")\n",
        "messages = [\n",
        "    {\"role\": \"user\", \"content\": text}\n",
        "]\n",
        "\n",
        "generation_args = {\n",
        "    \"max_new_tokens\": 4,\n",
        "    \"return_full_text\": False,\n",
        "    \"temperature\": 0.01,\n",
        "    \"do_sample\": True,\n",
        "}"
      ],
      "metadata": {
        "id": "wiJetyGKBHtW"
      },
      "execution_count": null,
      "outputs": []
    },
    {
      "cell_type": "code",
      "source": [
        "%%time\n",
        "output = pipe(messages, **generation_args)\n",
        "print(output[0]['generated_text'])"
      ],
      "metadata": {
        "colab": {
          "base_uri": "https://localhost:8080/"
        },
        "id": "vwQbDHsUBNm_",
        "outputId": "4172aca6-2aad-433a-8474-563e435bd4a5"
      },
      "execution_count": null,
      "outputs": [
        {
          "output_type": "stream",
          "name": "stdout",
          "text": [
            " toxic\n",
            "CPU times: user 378 ms, sys: 11.8 ms, total: 390 ms\n",
            "Wall time: 387 ms\n"
          ]
        }
      ]
    },
    {
      "cell_type": "markdown",
      "source": [
        "Model still performs general tasks as well"
      ],
      "metadata": {
        "id": "fcsWKKMoKbNM"
      }
    },
    {
      "cell_type": "code",
      "source": [
        "messages = [\n",
        "    {\"role\": \"user\", \"content\": 'Why is the sky blue?'}\n",
        "]\n",
        "generation_args = {\n",
        "    \"max_new_tokens\": 256,\n",
        "    \"return_full_text\": False,\n",
        "    \"temperature\": 0.0,\n",
        "    \"do_sample\": False,\n",
        "}\n",
        "output = pipe(messages, **generation_args)"
      ],
      "metadata": {
        "id": "351MnJ9prVlZ"
      },
      "execution_count": null,
      "outputs": []
    },
    {
      "cell_type": "code",
      "source": [
        "output[0]['generated_text']"
      ],
      "metadata": {
        "colab": {
          "base_uri": "https://localhost:8080/",
          "height": 122
        },
        "id": "k7byF1K2rnPZ",
        "outputId": "26b511f3-b801-4e8f-8eca-a7c6573f805b"
      },
      "execution_count": null,
      "outputs": [
        {
          "output_type": "execute_result",
          "data": {
            "text/plain": [
              "\" The sky appears blue due to a phenomenon called Rayleigh scattering. When sunlight reaches Earth', it interacts with molecules and small particles in the atmosphere. Sunlight is made up of different colors, each with a different wavelength. Blue light has a shorter wavelength and is scattered more easily by the molecules and particles in the atmosphere compared to other colors.\\n\\nAs a result, when we look at the sky, we see more blue light being scattered in all directions, giving the sky its characteristic blue color. The other colors (red, orange, yellow, etc.) are scattered less and therefore do not contribute as much to the overall color of the sky. This effect is most pronounced when the sun is high in the sky, and it is less noticeable near the horizon, where the blue light has to pass through more atmosphere and is scattered even more.\""
            ],
            "application/vnd.google.colaboratory.intrinsic+json": {
              "type": "string"
            }
          },
          "metadata": {},
          "execution_count": 7
        }
      ]
    }
  ]
}